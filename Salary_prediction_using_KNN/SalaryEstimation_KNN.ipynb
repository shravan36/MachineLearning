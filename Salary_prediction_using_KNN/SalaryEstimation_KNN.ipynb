{
 "cells": [
  {
   "cell_type": "markdown",
   "metadata": {
    "id": "6pk_INoSKj1N"
   },
   "source": [
    "# Day-4 | Salary Estimation | K-NEAREST NEIGHBOUR model"
   ]
  },
  {
   "cell_type": "markdown",
   "metadata": {
    "id": "7OGtDD8zKwUz"
   },
   "source": [
    "### *Importing Libraries*"
   ]
  },
  {
   "cell_type": "code",
   "execution_count": 1,
   "metadata": {
    "id": "7YBAsJmVKc_B"
   },
   "outputs": [],
   "source": [
    "import pandas as pd #useful for loading the dataset\n",
    "import numpy as np #to perform array"
   ]
  },
  {
   "cell_type": "markdown",
   "metadata": {
    "id": "rVLDLs-lK3xo"
   },
   "source": [
    "### *Choose Dataset from Local Directory ( For Google Colab Only )*"
   ]
  },
  {
   "cell_type": "code",
   "execution_count": 2,
   "metadata": {
    "id": "XA2ITub0K9k2"
   },
   "outputs": [],
   "source": [
    "#from google.colab import files\n",
    "#uploaded = files.upload()"
   ]
  },
  {
   "cell_type": "markdown",
   "metadata": {
    "id": "2VV6yeOfK_vp"
   },
   "source": [
    "### *Load Dataset*"
   ]
  },
  {
   "cell_type": "code",
   "execution_count": 3,
   "metadata": {
    "id": "Ij-0EywfLN3t"
   },
   "outputs": [],
   "source": [
    "dataset = pd.read_csv('salary.csv')"
   ]
  },
  {
   "cell_type": "markdown",
   "metadata": {
    "id": "7QZKjhQiLd0_"
   },
   "source": [
    "### *Summarize Dataset*\n"
   ]
  },
  {
   "cell_type": "code",
   "execution_count": 4,
   "metadata": {
    "id": "Bn4Vn37VLsZX"
   },
   "outputs": [
    {
     "name": "stdout",
     "output_type": "stream",
     "text": [
      "(32561, 5)\n",
      "   age  education.num  capital.gain  hours.per.week income\n",
      "0   90              9             0              40  <=50K\n",
      "1   82              9             0              18  <=50K\n",
      "2   66             10             0              40  <=50K\n",
      "3   54              4             0              40  <=50K\n",
      "4   41             10             0              40  <=50K\n"
     ]
    }
   ],
   "source": [
    "print(dataset.shape)\n",
    "print(dataset.head(5))"
   ]
  },
  {
   "cell_type": "markdown",
   "metadata": {
    "id": "PSCVm2nuMmEa"
   },
   "source": [
    "### *Mapping Salary Data to Binary Value*"
   ]
  },
  {
   "cell_type": "code",
   "execution_count": 5,
   "metadata": {
    "id": "NHJs-2U0M3CV"
   },
   "outputs": [
    {
     "name": "stdout",
     "output_type": "stream",
     "text": [
      "<bound method NDFrame.head of        age  education.num  capital.gain  hours.per.week  income\n",
      "0       90              9             0              40       0\n",
      "1       82              9             0              18       0\n",
      "2       66             10             0              40       0\n",
      "3       54              4             0              40       0\n",
      "4       41             10             0              40       0\n",
      "...    ...            ...           ...             ...     ...\n",
      "32556   22             10             0              40       0\n",
      "32557   27             12             0              38       0\n",
      "32558   40              9             0              40       1\n",
      "32559   58              9             0              40       0\n",
      "32560   22              9             0              20       0\n",
      "\n",
      "[32561 rows x 5 columns]>\n"
     ]
    }
   ],
   "source": [
    "income_set = set(dataset['income'])\n",
    "dataset['income'] = dataset['income'].map({'<=50K': 0, '>50K': 1}).astype(int)\n",
    "print(dataset.head)"
   ]
  },
  {
   "cell_type": "markdown",
   "metadata": {
    "id": "cPyEdPblNyrw"
   },
   "source": [
    "### *Segregate Dataset into X(Input/IndependentVariable) & Y(Output/DependentVariable)*"
   ]
  },
  {
   "cell_type": "code",
   "execution_count": 6,
   "metadata": {
    "id": "LKL0-37RNz0v"
   },
   "outputs": [
    {
     "data": {
      "text/plain": [
       "array([[90,  9,  0, 40],\n",
       "       [82,  9,  0, 18],\n",
       "       [66, 10,  0, 40],\n",
       "       ...,\n",
       "       [40,  9,  0, 40],\n",
       "       [58,  9,  0, 40],\n",
       "       [22,  9,  0, 20]])"
      ]
     },
     "execution_count": 6,
     "metadata": {},
     "output_type": "execute_result"
    }
   ],
   "source": [
    "X = dataset.iloc[:, :-1].values\n",
    "X"
   ]
  },
  {
   "cell_type": "code",
   "execution_count": 7,
   "metadata": {
    "id": "gYqJfw9CN379"
   },
   "outputs": [
    {
     "data": {
      "text/plain": [
       "array([0, 0, 0, ..., 1, 0, 0])"
      ]
     },
     "execution_count": 7,
     "metadata": {},
     "output_type": "execute_result"
    }
   ],
   "source": [
    "Y = dataset.iloc[:, -1].values\n",
    "Y"
   ]
  },
  {
   "cell_type": "markdown",
   "metadata": {
    "id": "c9aiUBLqOCIP"
   },
   "source": [
    "### *Splitting Dataset into Train & Test*"
   ]
  },
  {
   "cell_type": "code",
   "execution_count": 8,
   "metadata": {
    "id": "F-Xes7CFODNU"
   },
   "outputs": [],
   "source": [
    "from sklearn.model_selection import train_test_split\n",
    "X_train, X_test, y_train, y_test = train_test_split(X, Y, test_size = 0.25, random_state = 0)"
   ]
  },
  {
   "cell_type": "markdown",
   "metadata": {
    "id": "BI1S2PKoOLpf"
   },
   "source": [
    "### *Feature Scaling*\n",
    "### we scale our data to make all the features contribute equally to the result\n",
    "###Fit_Transform - fit method is calculating the mean and variance of each of the features present in our data\n",
    "###Transform - Transform method is transforming all the features using the respective mean and variance, \n",
    "###We want our test data to be a completely new and a surprise set for our model"
   ]
  },
  {
   "cell_type": "code",
   "execution_count": 9,
   "metadata": {
    "id": "bHSNDh8zOMZl"
   },
   "outputs": [],
   "source": [
    "from sklearn.preprocessing import StandardScaler\n",
    "sc = StandardScaler()\n",
    "X_train = sc.fit_transform(X_train) \n",
    "X_test = sc.transform(X_test) "
   ]
  },
  {
   "cell_type": "markdown",
   "metadata": {
    "id": "tWUH3bnwYEfr"
   },
   "source": [
    "### *Finding the Best K-Value*"
   ]
  },
  {
   "cell_type": "code",
   "execution_count": 10,
   "metadata": {
    "id": "WKES0Vn1YINO"
   },
   "outputs": [
    {
     "data": {
      "text/plain": [
       "Text(0, 0.5, 'Mean Error')"
      ]
     },
     "execution_count": 10,
     "metadata": {},
     "output_type": "execute_result"
    },
    {
     "data": {
      "image/png": "[encoded data removed]",
      "text/plain": [
       "<Figure size 864x432 with 1 Axes>"
      ]
     },
     "metadata": {
      "needs_background": "light"
     },
     "output_type": "display_data"
    }
   ],
   "source": [
    "error = []\n",
    "from sklearn.neighbors import KNeighborsClassifier\n",
    "import matplotlib.pyplot as plt\n",
    "\n",
    "# Calculating error for K values between 1 and 40\n",
    "for i in range(1, 40):\n",
    "    model = KNeighborsClassifier(n_neighbors=i)\n",
    "    model.fit(X_train, y_train)\n",
    "    pred_i = model.predict(X_test)\n",
    "    error.append(np.mean(pred_i != y_test))\n",
    "\n",
    "plt.figure(figsize=(12, 6))\n",
    "plt.plot(range(1, 40), error, color='red', linestyle='dashed', marker='o',\n",
    "         markerfacecolor='blue', markersize=10)\n",
    "plt.title('Error Rate K Value')\n",
    "plt.xlabel('K Value')\n",
    "plt.ylabel('Mean Error')"
   ]
  },
  {
   "cell_type": "markdown",
   "metadata": {
    "id": "j3i7m8V3OoXP"
   },
   "source": [
    "### *Training*"
   ]
  },
  {
   "cell_type": "code",
   "execution_count": 15,
   "metadata": {
    "id": "GmrBKoYLOnIx"
   },
   "outputs": [
    {
     "data": {
      "text/plain": [
       "KNeighborsClassifier(n_neighbors=30)"
      ]
     },
     "execution_count": 15,
     "metadata": {},
     "output_type": "execute_result"
    }
   ],
   "source": [
    "from sklearn.neighbors import KNeighborsClassifier\n",
    "model = KNeighborsClassifier(n_neighbors = 30, metric = 'minkowski', p = 2)\n",
    "model.fit(X_train, y_train)"
   ]
  },
  {
   "cell_type": "markdown",
   "metadata": {
    "id": "0oabYXRVOxO4"
   },
   "source": [
    "### *Predicting, wheather new customer with Age & Salary will Buy or Not*"
   ]
  },
  {
   "cell_type": "code",
   "execution_count": 16,
   "metadata": {
    "id": "ovhU7dWzOx_a"
   },
   "outputs": [
    {
     "name": "stdout",
     "output_type": "stream",
     "text": [
      "Enter New Employee's Age: 25\n",
      "Enter New Employee's Education: 25\n",
      "Enter New Employee's Captital Gain: 20000\n",
      "Enter New Employee's Hour's Per week: 50\n",
      "[1]\n",
      "Employee might got Salary above 50K\n"
     ]
    }
   ],
   "source": [
    "age = int(input(\"Enter New Employee's Age: \"))\n",
    "edu = int(input(\"Enter New Employee's Education: \"))\n",
    "cg = int(input(\"Enter New Employee's Captital Gain: \"))\n",
    "wh = int(input(\"Enter New Employee's Hour's Per week: \"))\n",
    "newEmp = [[age,edu,cg,wh]]\n",
    "result = model.predict(sc.transform(newEmp))\n",
    "print(result)\n",
    "\n",
    "if result == 1:\n",
    "  print(\"Employee might got Salary above 50K\")\n",
    "else:\n",
    "  print(\"Customer might not got  Salary above 50K\")"
   ]
  },
  {
   "cell_type": "markdown",
   "metadata": {
    "id": "mjBCAtVFTE89"
   },
   "source": [
    "### *Prediction for all Test Data*"
   ]
  },
  {
   "cell_type": "code",
   "execution_count": 17,
   "metadata": {
    "id": "SLSFpnwqTFk7"
   },
   "outputs": [
    {
     "name": "stdout",
     "output_type": "stream",
     "text": [
      "[[0 0]\n",
      " [0 0]\n",
      " [0 0]\n",
      " ...\n",
      " [0 0]\n",
      " [0 0]\n",
      " [1 0]]\n"
     ]
    }
   ],
   "source": [
    "y_pred = model.predict(X_test)\n",
    "print(np.concatenate((y_pred.reshape(len(y_pred),1), y_test.reshape(len(y_test),1)),1))"
   ]
  },
  {
   "cell_type": "markdown",
   "metadata": {
    "id": "dgsr46pcTosv"
   },
   "source": [
    "### *Evaluating Model - CONFUSION MATRIX*"
   ]
  },
  {
   "cell_type": "code",
   "execution_count": 18,
   "metadata": {
    "id": "agWRkVL3Tqn_"
   },
   "outputs": [
    {
     "name": "stdout",
     "output_type": "stream",
     "text": [
      "Confusion Matrix: \n",
      "[[5875  318]\n",
      " [1164  784]]\n",
      "Accuracy of the Model: 81.79584817589976%\n"
     ]
    }
   ],
   "source": [
    "from sklearn.metrics import confusion_matrix, accuracy_score\n",
    "cm = confusion_matrix(y_test, y_pred)\n",
    "\n",
    "print(\"Confusion Matrix: \")\n",
    "print(cm)\n",
    "\n",
    "print(\"Accuracy of the Model: {0}%\".format(accuracy_score(y_test, y_pred)*100))"
   ]
  },
  {
   "cell_type": "code",
   "execution_count": null,
   "metadata": {},
   "outputs": [],
   "source": []
  }
 ],
 "metadata": {
  "colab": {
   "name": "Day4_SalaryEstimation_K-NN.ipynb",
   "provenance": []
  },
  "kernelspec": {
   "display_name": "Python 3 (ipykernel)",
   "language": "python",
   "name": "python3"
  },
  "language_info": {
   "codemirror_mode": {
    "name": "ipython",
    "version": 3
   },
   "file_extension": ".py",
   "mimetype": "text/x-python",
   "name": "python",
   "nbconvert_exporter": "python",
   "pygments_lexer": "ipython3",
   "version": "3.8.3"
  }
 },
 "nbformat": 4,
 "nbformat_minor": 1
}
